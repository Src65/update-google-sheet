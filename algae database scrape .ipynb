{
 "cells": [
  {
   "cell_type": "markdown",
   "metadata": {},
   "source": [
    "\n",
    "# This code was intened for updating a google sheet stored on a google drive. \n",
    "google has detailed instructions [here](https://developers.google.com/sheets/api/quickstart/python)\n",
    "\n",
    "Access google api console.developers https://console.developers.google.com/apis/dashboard \n",
    "create a new project and enable google drive and sheets api in library\n",
    "\n",
    "# Credentials \n",
    "* On the Add credentials to your project page, click the Cancel button.\n",
    "* At the top of the page, select the OAuth consent screen tab. Select an Email address, enter a Product name if not already set, and click the Save button.\n",
    "* Select the Credentials tab, click the Create credentials button and select OAuth client ID.\n",
    "* Select the application type Other, enter the name \"Google Sheets API Quickstart\", and click the Create button.\n",
    "* Click OK to dismiss the resulting dialog.\n",
    "* Click the file_download (Download JSON) button to the right of the client ID.\n",
    "* Move this file to your working directory and rename it whatereveryouwant.json.\n",
    "\n",
    "Open the json file in any txt viewer (notepad) and find the \"email\". Coppy the address and go to your google sheet and share with this email address. \n",
    "\n",
    "Later you will call your craedential .json file with ServiceAccountCredentials so make sure the .json file is where you can call it. \n",
    "\n",
    "# using gspread \n",
    "This is a good [resource for using gspread](https://github.com/burnash/gspread) (import gpread)\n",
    "\n",
    "Steven Cunningham (2018)"
   ]
  },
  {
   "cell_type": "code",
   "execution_count": 148,
   "metadata": {},
   "outputs": [],
   "source": [
    "from __future__ import print_function\n",
    "from apiclient.discovery import build\n",
    "from httplib2 import Http\n",
    "from oauth2client import file, client, tools\n",
    "import gspread \n",
    "from oauth2client.service_account import ServiceAccountCredentials \n",
    "import urllib.request\n",
    "from urllib.request import Request, urlopen\n",
    "import datetime \n"
   ]
  },
  {
   "cell_type": "code",
   "execution_count": 156,
   "metadata": {},
   "outputs": [],
   "source": [
    "# set scope of what the code will access \n",
    "scope = ['https://spreadsheets.google.com/feeds',\n",
    "         'https://www.googleapis.com/auth/drive'] # this 2nd line gets rid of api permissions error \n",
    "creds = ServiceAccountCredentials.from_json_keyfile_name('sheet_scrape_test.json', scope) #load your .json file\n",
    "client = gspread.authorize(creds)\n",
    "sheet = client.open('dataset for testing only').sheet1 #don't use actual sheet name but sheet 1, 2,... Do use the actual googleworkbook name\n",
    "# sheet = access to the sheet in question\n",
    "dataset = sheet.get_all_records() # this puts the data into a list"
   ]
  },
  {
   "cell_type": "markdown",
   "metadata": {},
   "source": [
    "to add row\n",
    "row = [\"x\", \"y\", \"z\" ...]\n",
    "index = which row do you want to write, numeric\n",
    "sheet.insert_row(row, index)\n",
    "sheet.delete_row(numeric row)\n",
    "print(sheet.row_count)\n"
   ]
  },
  {
   "cell_type": "code",
   "execution_count": 157,
   "metadata": {},
   "outputs": [
    {
     "name": "stdout",
     "output_type": "stream",
     "text": [
      "Notes\n"
     ]
    }
   ],
   "source": [
    "# how to pull or write to the googlesheet \n",
    "product_links = sheet.col_values(12) # get row, col, or cell by 'sheet.cell(2,3).value'\n",
    "#print(product_links)\n",
    "cell_check = sheet.cell(2,25).value # reading a single cell (y,x)\n",
    "print(cell_check)\n",
    "\n",
    "\n",
    "#sheet.update_cell(3,25, 'HI') # how to write to a cell"
   ]
  },
  {
   "cell_type": "code",
   "execution_count": 153,
   "metadata": {},
   "outputs": [
    {
     "name": "stdout",
     "output_type": "stream",
     "text": [
      "['http://www.ironboundisland.com/purchase/order-by-the-pound/', 'https://www.alibaba.com/product-detail/Factory-Supply-palmaria-palmata-extract_60413103890.html', 'https://www.alibaba.com/product-detail/Seaweed-palmaria-palmata-health-benefits-dulse_60554116067.html', 'https://www.mountainroseherbs.com/search?page=1&q=dulse&utf8=%E2%9C%93', 'http://www.seaveg.com/shop/index.php?main_page=index&cPath=21', 'http://www.seaveg.com/shop/index.php?main_page=index&cPath=22', 'http://www.irishseaweed.co.uk/order-online.php', 'https://high-key.en.alibaba.com/', '', 'https://yuanchem.en.alibaba.com/product/60561406139-803649533/Chinese_Nori_Seaweed_Porphyra_seaweed_in_China.html', 'http://www.ironboundisland.com/purchase/order-by-the-pound/', 'https://www.alibaba.com/product-detail/Porphyra-Powder-keep-slimming_60626461782.html', 'https://www.alibaba.com/product-detail/GMO-Free-Dried-Nori-Powder-Wholesale_60303669904.html', 'https://www.alibaba.com/product-detail/Dried-Laver-Nori-Powder-Form-Porphyra_60406428410.html', 'https://www.iherb.com/pr/Starwest-Botanicals-Spirulina-Powder-Organic-1-lb-453-6-g/22716', 'https://nuts.com/cookingbaking/powders/spirulina/premium.html', 'http://www.bulkapothecary.com/product/make-it/wine-making/herbs-spices/spirulina-powder/', 'http://www.bulkapothecary.com/product/make-it/wine-making/herbs-spices/spirulina-powder/', 'https://www.mountainroseherbs.com/search?page=1&q=spirulina&utf8=%E2%9C%93', '', 'https://www.indiamart.com/shibin-exports/cyanobacterium-spirulina.html#spirulina-powder', 'https://www.alibaba.com/product-detail/Certificate-Organic-Spirulina_914647136.html', '', 'https://fzbpsw.en.alibaba.com/product/60671915691-805046728/100_pure_organic_spirulina_powder.html', 'https://fzseaweed.en.alibaba.com/product/60534368598-802967599/100_pure_Organic_spirulina_powder.html', 'https://sost.en.alibaba.com/product/60059080653-222412445/100_Natural_bulk_spirulina_algae_powder.html', 'https://www.alibaba.com/product-detail/GMP-Factory-Supply-Algae-Extract-Spirulina_60578349507.html?s=p', 'http://www.boonsomfarm.com/en/order.html', 'http://shop.earthrise.com/Spirulina_Natural_s/1817.htm', 'http://www.sino-microalgae.com/spirulina', '', 'https://www.indiamart.com/shibin-exports/chlorella.html', 'https://www.alibaba.com/product-detail/Certified-Organic-Chlorella_1265811086.html', '', 'https://nuts.com/cookingbaking/powders/spirulina/premium.html', 'http://www.bulksupplements.com/chlorella-blue-green-algae.html', 'https://www.myspicesage.com/chlorella-powder-p-1050.html', 'https://www.alibaba.com/product-detail/High-Quality-Organic-Chlorella-Powder_60629541608.html', 'https://sost.en.alibaba.com/product/60167894793-222412445/Chinese_manufacturer_supply_chlorella_algae_powder_in_stock.html', 'https://www.alibaba.com/product-detail/Pure-natural-Chlorella-powder_60148545151.html', 'http://www.sino-microalgae.com/chlorella', 'https://yuanchem.en.alibaba.com/product/60583220642-803649533/Dried_Dashi_Kombu_Kelp_Seaweed_Laminaria_Japonica_for_Soup_Sushi.html', 'https://www.alibaba.com/product-detail/2016-crop-Naturally-air-dried-laminaria_717051307.html', 'https://www.alibaba.com/product-detail/dried-seaweed-laminaria_598456019.html', 'http://www.ironboundisland.com/purchase/order-by-the-pound/', 'https://www.alibaba.com/product-detail/Dry-Kelp-Laminaria-Kombu_60583107733.html', 'https://www.alibaba.com/product-detail/LanBing-supply-GMP-Standard-sea-tangle_60676284951.html', 'https://www.alibaba.com/product-detail/Fucoidan-Kelp-Extract-Powder-Laminaria-Japonica_60656169077.html', 'https://www.alibaba.com/product-detail/100-natural-kelp-powder-seaweed-powder_60366434687.html', 'https://www.alibaba.com/product-detail/Wholesale-price-sun-dried-kelp-laminaria_1959195426.html', 'https://natesw.en.alibaba.com/product/60107944680-222082053/100_Natural_Brown_seaweed_extract_Kelp_extract_50_Fucoxanthin.html', 'http://www.irishseaweed.co.uk/order-online.php', 'https://ychaiteng.en.alibaba.com/product/60664255351-804944864/2017_newly_Chinese_dried_Wakame.html', 'https://www.alibaba.com/product-detail/Feed-Grade-Wakame-powder-or-Undaria_60604277478.html', 'https://www.alibaba.com/product-detail/Curl-Dried-Wakame-Leaves-cut-Undaria_60446223457.html', '', 'https://vegetables-fruits.en.alibaba.com/product/1781439801-0/wakame_Sea_mustard_Undaria_pinnatifida.html', 'https://www.galiciaterra.com/tienda/alimentacion/delicatessen-de-galicia/algas-pardas-frescas-a-granel-kg-wakame-undaria-pinnatifida', 'https://fzseaweed.en.alibaba.com/product/60464852876-802881872/Frozen_Chuka_Seaweed_Salad_Hayashi_Wakame_.html', 'https://www.alibaba.com/product-detail/100-Natural-wakame-kelp-extract-Fucoxanthin_60260787069.html?s=p', 'https://www.alibaba.com/product-detail/Sale-100-Natural-Wakame-Kelp-Extract_60369100911.html', 'https://www.alibaba.com/product-detail/new-product-best-price-undaria-pinnatifida_958911347.html', 'https://www.galiciaterra.com/tienda/alimentacion/delicatessen-de-galicia/algas-frescas-a-granel-musgo-de-irlanda-chondrus-crispus', 'http://www.seaveg.com/shop/index.php?main_page=index&cPath=20', 'http://www.seaveg.com/shop/index.php?main_page=index&cPath=21', 'https://www.alibaba.com/product-detail/Hot-Selling-Chondrus-Crispus-Extract-Polysaccharide_60552885303.html', 'https://www.alibaba.com/product-detail/Pure-Natural-Chondrus-crispus-extract-powder_60553729734.html', 'https://www.alibaba.com/product-detail/Irish-Moss-25kg_50029364449.html', 'http://www.irishseaweed.co.uk/order-online.php', 'http://www.globalsources.com/si/AS/jesus-de/6008849900173/pdtl/condrus-crispus-seaweed-dried/1143102170.htm', 'https://fzbpsw.en.alibaba.com/product/495608735-212881855/food_ulva.html', 'https://fzbpsw.en.alibaba.com/product/911874172-212900378/Natural_Raw_materials_Dried_Ulva_Lactuca_Seaweed_for_Sea_cucumber_Abalone_Feed.html', 'https://fzbpsw.en.alibaba.com/product/514707088-212881851/Ulva_powder_Alga_Ulva_Extract_Powder.html', 'https://ychaiteng.en.alibaba.com/product/60666331762-804736171/Chinese_manufactory_new_dried_Sea_Lactuca.html', 'http://www.seaveg.com/shop/index.php?main_page=product_info&cPath=24&products_id=54', 'https://fzseaweed.en.alibaba.com/product/60465186497-803073207/Ulva_green_seaweed_ulva_flakes_for_food_ulva_wholesale.html', 'https://fzseaweed.en.alibaba.com/product/60442818797-803073207/Dried_Green_Seaweed_Ulva_Lactuca_Leaf_Flakes_for_Snack_Ingredients.html', 'https://greenworldimexco.trustpass.alibaba.com/product/50033119820-106193775/Ulva_Lactuca_seaweed_with_high_quality_and_best_price_from_Viet_Nam.html', 'https://greenworldimexco.trustpass.alibaba.com/product/179591459-106193775/Ulva_Lactuca_Grind_Seaweed_with_special_Price_for_now.html', 'https://diepthao.trustpass.alibaba.com/product/50035296994-231127830/Ulva_seaweed_powder_for_organic_fertilizer.html', 'https://diepthao.trustpass.alibaba.com/product/50035296964-231127830/green_Ulva_seaweed_for_human_food.html', 'https://sovimexco.trustpass.alibaba.com/product/50030861459-230791989/ULVA_LACTUCA_SEAWEED_BEST_PRICE_HIGH_QUALITY.html', 'https://sovimexco.trustpass.alibaba.com/product/50030758864-230791989/NATURAL_GREEN_SEAWEED_ulva_lactuca_.html', 'https://vn1103738867xeoi.trustpass.alibaba.com/product/50027345652-230588111/ULVA_LACTUCA_GREEN_SEAWEED_RAW_.html', 'https://vn1103738867xeoi.trustpass.alibaba.com/product/50027345652-230588111/ULVA_LACTUCA_GREEN_SEAWEED_RAW_.html', 'https://ychaiteng.en.alibaba.com/product/60644117869-804751707/Factory_direct_sales_Dried_Seaweed_Hijiki.html', 'https://fzbpsw.en.alibaba.com/product/496822117-212881855/Feed_sargassum_fusiforme_seaweed_powder_feed_additives.html', 'https://sxaladin.en.alibaba.com/product/929395203-215326024/marine_algae_extract_Algea_extract.html', 'https://greenworldimexco.trustpass.alibaba.com/product/145118329-106193775/SARGASSUM_IN_VIETNAM_WITH_BEST_PRICE.html', 'https://greenworldimexco.trustpass.alibaba.com/product/50033190164-106193775/BROWN_SARGASSUM_SEAWEED_IN_VIET_NAM_WITH_BEST_PRICE.html', 'https://www.alibaba.com/product-detail/DRIED-SARGASSUM_50037454488.html', 'https://diepthao.trustpass.alibaba.com/product/50035300958-231127830/Sargassum_seaweed_fertilizer_seaweed_feed_seaweed_for_land.html', 'https://sovimexco.trustpass.alibaba.com/product/50031028243-230791989/SARGASSUM_IN_VIETNAM_001.html', 'https://sovimexco.trustpass.alibaba.com/product/50030786055-230791989/Sargassum_seaweed_organic_fertilizer_in_viet_nam.html', 'https://vn1103738867xeoi.trustpass.alibaba.com/product/50028299808-230588111/SARGASSUM_SEAWEED_LOW_PRICE_MS_MAI_PHAM_84_979051378_.html', 'http://www.globalsources.com/si/AS/jesus-de/6008849900173/pdtl/sargassum-seaweeds/1143101990.htm', '', 'https://www.indiamart.com/proddetail/alaria-esculenta-seaweed-15473506262.html', 'https://www.alibaba.com/product-detail/80-95-Fucoxanthin-Kelp-Extract-Powder_2011511296.html', 'https://www.alibaba.com/product-detail/Pure-alaria-esculenta-extract-powder_60673949467.html', 'https://www.alibaba.com/product-detail/Bladder-wrack-Fucus-Vesiculosus-Extract-Powder_60258680548.html', 'https://www.alibaba.com/product-detail/100-Natural-Brown-Fucus-Vesiculosus-Extract_60094796915.html?s=p', 'https://www.alibaba.com/product-detail/Health-food-fucus-vesiculosus-extract_60244255380.html?s=p', 'https://lekostyle.all.biz/en/the-fucus-is-bubbly-water-and-glyceric-agrimer-g3506674', 'https://www.justingredients.co.uk/kelp-powder.html', 'http://www.globalsources.com/si/AS/jesus-de/6008849900173/pdtl/Ascophyllum-nodosum-seaweed-Dried/1143193942.htm', 'https://greenworldimexco.trustpass.alibaba.com/product/180050400-106193775/DRIED_GRACILARIA_RAW_POWDER_SEAWEED_BEST_QUALITY_BEST_PRICE.html', 'https://greenworldimexco.trustpass.alibaba.com/product/180129682-106193775/DRIED_GRACILARIA_POWDER_SEAWEED_HIGH_QUALITY_SPECIAL_PRICE.html', 'https://diepthao.trustpass.alibaba.com/product/50035349333-231127830/Gracilaria_seaweed.html', 'https://diepthao.trustpass.alibaba.com/product/50035939786-231127830/POWDER_GRACILARIA_FOR_ANIMAL_FERTILIZER.html', 'https://harmonynauli.trustpass.alibaba.com/product/180236762-230644563/GRACILARIA.html', 'https://www.alibaba.com/product-detail/Gracilaria-Chilensis_50033387151.html', 'https://seaweedexport.fm.alibaba.com/product/211815979-10677491/Seaweeds_Gracilaria_Chilensis.html', 'http://www.seaweedsagarpacific.com/English/index.html', 'https://diepthao.trustpass.alibaba.com/product/50035355810-231127830/white_gold_cottonii_seaweed.html', 'https://greenworldimexco.trustpass.alibaba.com/product/169453620-106194699/HIGH_QUALITY_EUCHEUMA_COTTONII_SEAWEED_BEST_PRICE.html', 'https://greenworldimexco.trustpass.alibaba.com/product/169453620-106194699/HIGH_QUALITY_EUCHEUMA_COTTONII_SEAWEED_BEST_PRICE.html', 'https://harmonynauli.trustpass.alibaba.com/product/110799705-230644563/EUCHEUMA_COTTONII.html', 'https://sovimexco.trustpass.alibaba.com/product/50030697170-230791989/dried_E_Cottonii_Spinosum_Seaweed.html', 'https://www.alibaba.com/product-detail/Kappaphycus-alvarezii-Cottonii_50034420633.html', 'https://www.alibaba.com/product-detail/Dried-Kappaphycus_171078432.html', 'https://www.alibaba.com/product-detail/Dried-Seawed_122392097.html', 'https://abimar.trustpass.alibaba.com/product/50033284784-230969804/Lessonia_Trabeculata.html', 'https://abimar.trustpass.alibaba.com/product/50033370692-230969804/Lessonia_nigrescens_berteroana_spicata_.html', 'https://inveracex.fm.alibaba.com/product/105169419-101274711/SEAWEED_Lessonia_nigrescens.html', 'https://www.alibaba.com/product-detail/Lessonia-Nigrenscens-dried-seaweed_121127015.html', 'https://www.alibaba.com/product-detail/ALGAE-LESSONIA-NIGESCENS_50001308034.html', 'https://www.alibaba.com/product-detail/Lessonia-nigrescens_171399486.html', 'https://seaweedexport.fm.alibaba.com/product/100739109-10677491/Lessonia_Nigrescens.html', 'http://www.globalsources.com/si/AS/jesus-de/6008849900173/pdtl/lessonia-trabeculata-seaweeds/1143101250.htm', 'https://abimar.trustpass.alibaba.com/product/50033134038-230969804/macrocystis_integrifolia.html', 'https://cl105543308.fm.alibaba.com/product/50018558731-101369951/Macrocystis.html', 'https://www.alibaba.com/product-detail/SEAWEED-MACROCYSTIS_105169500.html', 'https://mx100230877.fm.alibaba.com/product/166917213-0/MACROSYSTIS_PYRIFERA.html', 'https://www.alibaba.com/product-detail/Gigartina-Sarcothalia-Crispata-For-Carrageenan_10918772.html', 'http://www.globalsources.com/si/AS/jesus-de/6008849900173/pdtl/Macrocystis-integrifolia-seaweeds/1143101996.htm', 'https://mx100230877.fm.alibaba.com/product/50003995844-0/PELAGOPHYCUS_PORRA.html', 'https://abimar.trustpass.alibaba.com/product/50033443412-230969804/Sarcothalia_crispata_and_Gigartina_skottsbergii.html', 'https://www.alibaba.com/product-detail/Gigartina-Sarcothalia-Crispata-For-Carrageenan_10918772.html', 'https://abimar.trustpass.alibaba.com/product/50034796803-230969804/Durvillaea_antarctica.html', 'https://www.alibaba.com/product-detail/durvillaea_50021255957.html', 'https://www.alibaba.com/product-detail/Durvillaea-antarctica-chilean-seaweed-in-dust_106357204.html', 'https://www.alibaba.com/product-detail/Durvillaea-antarctica_50011744549.html', 'http://www.seaweedsagarpacific.com/English/index.html', 'https://www.alibaba.com/product-detail/schizochytrium-algae-dha-powder_1933946693.html?s=p', 'https://www.alibaba.com/product-detail/Top-Quality-Schizochytrium-Algae-DHA-Powder_60475930704.html', 'https://www.alibaba.com/product-detail/High-quality-schizochytrium-algae-dha-powder_60693623290.html', 'https://www.alibaba.com/product-detail/GMP-Certified-DHA-Algae-Powder-Best_50036999486.html', 'http://www.sino-microalgae.com/schizochytrium', 'https://www.alibaba.com/product-detail/Mazaella-Laminariodes_110459635.html', 'https://www.alibaba.com/product-detail/Gigartina-Sarcothalia-Crispata-For-Carrageenan_10918772.html', 'https://www.alibaba.com/product-detail/Sarcothalia-crispata-and-Gigartina-skottsbergii_50033443412.html', 'https://www.alibaba.com/product-detail/Gigartina-Sarcothalia-Crispata-For-Carrageenan_10918772.html', 'http://www.globalsources.com/si/AS/jesus-de/6008849900173/pdtl/seaweed-gigartina-chamissoi-Dried/1143102166.htm', 'https://www.alibaba.com/product-detail/Chondracanthus-chamissoi_110459621.html', 'http://www.seaweedsagarpacific.com/English/index.html', 'http://www.globalsources.com/si/AS/jesus-de/6008849900173/pdtl/chondracanthus-chamissoi-seaweeds/1143101993.htm?AGGType=pure', 'https://www.alibaba.com/product-detail/-Manufacturer-Dried-Codium-Fragile_625461935.html', 'http://www.globalsources.com/si/AS/jesus-de/6008849900173/pdtl/seaweed/1144386419.htm', 'http://www.irishseaweed.co.uk/order-online.php', 'https://fr103805923.fm.alibaba.com/', 'https://www.alibaba.com/product-detail/Algae-Paste-Isochrysis_142045291.html', 'https://www.alibaba.com/product-detail/Microalgae-Isochrysis-sp-_103307758.html', 'https://es103283847.fm.alibaba.com/product/103307699-100685493/Microalgae_Nannochloropsis_sp_.html', 'http://www.sino-microalgae.com/nannochloropsis', 'https://www.alibaba.com/product-detail/Marine-Phytoplankton-Single-strain-Nannochloropsis_50025128827.html', 'https://www.alibaba.com/product-detail/Nannochloropsis-gaditana-PREMIUM-microalgae-aquaculture_158235584.html', 'https://www.alibaba.com/product-detail/Chinese-shop-online-hot-sale-food_60471922789.html?s=p', 'https://www.alibaba.com/product-detail/Factory-Supply-Best-nannochloropsis-oceanica-powder_60721135643.html?s=p', 'https://www.alibaba.com/product-detail/Hot-Sell-Best-Price-Natural-Nannochloropsis_60453025286.html', 'https://www.alibaba.com/product-detail/Marine-Phytoplankton-Nannochloropsis-Gaditana_50027981234.html', 'http://www.sino-microalgae.com/dunaliella-salina', 'https://www.alibaba.com/product-detail/Natural-Beta-Carotene-Dunaliella-Salina-10_50013235229.html', 'https://www.alibaba.com/product-detail/Beta-Carotene-Powder-10-20-Powder_116665044.html', 'https://www.alibaba.com/product-detail/100-natural-dunaliella-salina-powder-hot_60465490284.html?s=p', 'https://www.alibaba.com/product-detail/High-Quality-Organic-Dunaliella-salina_60070291001.html', 'http://www.sino-microalgae.com/haematococcus-pluvialis', 'https://www.nutricargo.com/astaxanthin-algae-powder?language=en&currency=USD', 'https://www.alibaba.com/product-detail/Haematococcus-Pluvialis-extract-powder-astaxanthin_60549428315.html?s=p', 'https://www.alibaba.com/product-detail/Natural-Haematococcus-Pluvialis-Extract-Powder-Astaxanthin_50033807827.html', 'https://www.alibaba.com/product-detail/Haematococcus-Pluvialis-Extract-Astaxanthin-Astaxanthin-Powder_60177106764.html', 'https://www.alibaba.com/product-detail/1-to-5-HPLC-full-series_60531312085.html', 'https://www.alibaba.com/product-detail/CAS-No-472-61-7-Astaxanthin_60398819862.html', 'https://www.alibaba.com/product-detail/hot-sale-Pure-Natural-Haematococcus-pluvialis-_60237068715.html', 'https://www.alibaba.com/product-detail/Dried-Seawed_122392097.html']\n"
     ]
    }
   ],
   "source": [
    "# get list of links\n",
    "link_list = sheet.col_values(12) # this is an indexable list ready for loop\n",
    "link_list = link_list[2:]\n",
    "n= len(link_list) # how many links are there?\n",
    "print(link_list)"
   ]
  },
  {
   "cell_type": "code",
   "execution_count": 169,
   "metadata": {},
   "outputs": [],
   "source": [
    "#loops through \n",
    "update_date = time.strftime(\"%d/%m/%Y %H:%M\") #pull the date and time of loop\n",
    "sheet.update_cell(1,26, update_date)\n",
    "for num, link in enumerate(link_list, start=1):\n",
    "    try:\n",
    "        req = urllib.request.Request(link,\n",
    "        headers={'User-Agent': 'Mozilla/5.0 (Macintosh; Intel Mac OS X 10_9_3) AppleWebKit/537.36 (KHTML, like Gecko) Chrome/35.0.1916.47 Safari/537.36'})\n",
    "        x = urllib.request.urlopen(req).getcode()\n",
    "        if x == 200: # if good link http code will be 200\n",
    "            #sheet.update_cell(num+2,26, 'Online')     I had to get rid of writting this much because of google api write quota \n",
    "            #sheet.update_cell(num+2, 27, update_date)\n",
    "            pass\n",
    "    except:\n",
    "        sheet.update_cell(num+2,26, 'Offline')\n",
    "        #sheet.update_cell(num+2, 27, update_date)\n",
    "\n"
   ]
  },
  {
   "cell_type": "code",
   "execution_count": 147,
   "metadata": {},
   "outputs": [
    {
     "data": {
      "text/plain": [
       "0"
      ]
     },
     "execution_count": 147,
     "metadata": {},
     "output_type": "execute_result"
    }
   ],
   "source": [
    "len(sheet.findall('Error'))"
   ]
  },
  {
   "cell_type": "code",
   "execution_count": 168,
   "metadata": {},
   "outputs": [
    {
     "data": {
      "text/plain": [
       "{'spreadsheetId': '1wTUyEA6Wpc_50s4heoy8h1iAXS0dqs7hARTWiGkH5wY',\n",
       " 'updatedCells': 1,\n",
       " 'updatedColumns': 1,\n",
       " 'updatedRange': 'Suppliers!Z1',\n",
       " 'updatedRows': 1}"
      ]
     },
     "execution_count": 168,
     "metadata": {},
     "output_type": "execute_result"
    }
   ],
   "source": [
    "sheet.update_cell(1,26, update_date)"
   ]
  },
  {
   "cell_type": "code",
   "execution_count": null,
   "metadata": {},
   "outputs": [],
   "source": []
  }
 ],
 "metadata": {
  "kernelspec": {
   "display_name": "Python 3",
   "language": "python",
   "name": "python3"
  },
  "language_info": {
   "codemirror_mode": {
    "name": "ipython",
    "version": 3
   },
   "file_extension": ".py",
   "mimetype": "text/x-python",
   "name": "python",
   "nbconvert_exporter": "python",
   "pygments_lexer": "ipython3",
   "version": "3.6.4"
  }
 },
 "nbformat": 4,
 "nbformat_minor": 2
}
